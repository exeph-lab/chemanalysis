{
 "cells": [
  {
   "cell_type": "code",
   "execution_count": 9,
   "id": "156d07ee-b550-4571-9d73-8a74066bc3a7",
   "metadata": {},
   "outputs": [
    {
     "name": "stdout",
     "output_type": "stream",
     "text": [
      "cid                                                                 193373\n",
      "cartesian_coordinates    [1.0854899213475149, -0.20413998519187976, 0.2...\n",
      "atomic_numbers           [6, 6, 6, 6, 6, 6, 6, 6, 8, 8, 6, 6, 8, 8, 1, ...\n",
      "smiles                                            OC(=O)CC(CCCC(C(=O)O)C)C\n",
      "Name: 0, dtype: object\n",
      "number of processed molecules: 10\n"
     ]
    }
   ],
   "source": [
    "import pandas as pd\n",
    "import selfies as sf\n",
    "from rdkit import Chem\n",
    "from rdkit.Chem import rdmolops\n",
    "\n",
    "class molecules:\n",
    "    def __init__(self, csv_path, nrows=None):\n",
    "        \"\"\"\n",
    "        initialize the processor with path to CSV file\n",
    "        CSV should contain at least a 'smiles' and 'cartesian_coordinates' columns\n",
    "        \"\"\"\n",
    "        self.data = pd.read_csv(csv_path, nrows=nrows)\n",
    "        self.validate_input()\n",
    "    \n",
    "    def validate_input(self):\n",
    "        \"\"\"validate that the input data contains required columns\"\"\"\n",
    "        if 'smiles' not in self.data.columns or 'cartesian_coordinates' not in self.data.columns:\n",
    "            raise ValueError(\"CSV must contain a 'smiles' and a 'cartesian_coordinates' columns\")\n",
    "    \n",
    "    def preprocess_molecules(self):\n",
    "        \"\"\"convert SMILES to RDKit molecules and compute needed properties\"\"\"\n",
    "        # Convert SMILES to RDKit molecules\n",
    "        try: self.data['molecules'] = self.data['smiles'].apply(Chem.MolFromSmiles)\n",
    "        except ValueError: print(\"invalid SMILES string\")\n",
    "\n",
    "        # add hydrogens to the molecules\n",
    "        self.data['molecules_with_h'] = self.data['molecules'].apply(lambda mol: Chem.AddHs(mol))\n",
    "        \n",
    "        # compute the adjacency matrices\n",
    "        self.data['adjacency_matrices'] = self.data['molecules'].apply(lambda mol: rdmolops.GetAdjacencyMatrix(mol))\n",
    "\n",
    "        # count hydrogens\n",
    "        self.data['hydrogen_count'] = self.data['molecules_with_h'].apply(lambda mol: mol.GetNumAtoms()) - self.data['molecules'].apply(lambda mol: mol.GetNumAtoms())\n",
    "\n",
    "        # Convert SMILES to SELFIES\n",
    "        self.data['selfies'] = self.data['smiles'].apply(lambda x: sf.encoder(x))\n",
    "        \n",
    "    def export_training_data(self, output_path):\n",
    "        \"\"\"export processed data to CSV\"\"\"\n",
    "        # create export dataframe without RDKit mol objects\n",
    "        export_df = self.data['selfies', 'hydrogen_count', 'coordinates']\n",
    "        export_df.to_csv(output_path, index=False)\n",
    "\n",
    "# Example usage\n",
    "if __name__ == \"__main__\":\n",
    "    # initialize processor\n",
    "    molecules = molecules('data/split_1.csv', 10)\n",
    "    print(molecules.data.iloc[0])\n",
    "\n",
    "    \"\"\"\n",
    "    # export the data\n",
    "    #processor.training_data('processed_molecules.csv')\n",
    "    print(molecules.data.iloc[0]['atomic_numbers'])\n",
    "    print(molecules.data.iloc[0]['adjacency_matrices'])\n",
    "    print(molecules.data.iloc[0]['hydrogen_count'])\n",
    "    print(molecules.data.iloc[0]['selfies'])\n",
    "    \"\"\"\n",
    "    \n",
    "    # print some statistics\n",
    "    print(\"number of processed molecules:\", len(molecules.data))"
   ]
  },
  {
   "cell_type": "code",
   "execution_count": 41,
   "id": "b78f50ae-b0d0-4b06-b16b-0f882b8f0c65",
   "metadata": {},
   "outputs": [
    {
     "name": "stdout",
     "output_type": "stream",
     "text": [
      "\n",
      "A:\n",
      "[[0 1]\n",
      " [1 0]]\n",
      "\n",
      "A²:\n",
      "[[1 0]\n",
      " [0 1]]\n",
      "\n",
      "A² - diagonalūs elementai:\n",
      "[[0 0]\n",
      " [0 0]]\n",
      "\n",
      "A³:\n",
      "[[0 1]\n",
      " [1 0]]\n",
      "\n",
      "A³ - A elementai:\n",
      "[[0 0]\n",
      " [0 0]]\n"
     ]
    }
   ],
   "source": [
    "import numpy as np\n",
    "\n",
    "mol = Chem.MolFromSmiles(sf.decoder('[O][=O]'))\n",
    "mol_h = Chem.AddHs(mol)\n",
    "\n",
    "adj_matrix = rdmolops.GetAdjacencyMatrix(mol)\n",
    "\n",
    "print(f\"\\nA:\")\n",
    "print(adj_matrix)\n",
    "\n",
    "print(f\"\\nA²:\")\n",
    "print(adj_matrix @ adj_matrix)\n",
    "\n",
    "print(f\"\\nA² - diagonalūs elementai:\")\n",
    "print(adj_matrix @ adj_matrix * (1 - np.eye(len(adj_matrix[0])).astype(int)))\n",
    "\n",
    "print(f\"\\nA³:\")\n",
    "print(adj_matrix @ adj_matrix @ adj_matrix)\n",
    "\n",
    "print(f\"\\nA³ - A elementai:\")\n",
    "print(adj_matrix @ adj_matrix @ adj_matrix * (1 - adj_matrix))"
   ]
  },
  {
   "cell_type": "code",
   "execution_count": 32,
   "id": "3b1a6cf8-5c77-4fe6-a2e1-1cacf2c8d913",
   "metadata": {},
   "outputs": [
    {
     "name": "stdout",
     "output_type": "stream",
     "text": [
      "{'H': 1, 'F': 1, 'Cl': 1, 'Br': 1, 'I': 1, 'B': 3, 'B+1': 2, 'B-1': 4, 'O': 2, 'O+1': 3, 'O-1': 1, 'N': 3, 'N+1': 4, 'N-1': 2, 'C': 4, 'C+1': 5, 'C-1': 3, 'P': 5, 'P+1': 6, 'P-1': 4, 'S': 6, 'S+1': 7, 'S-1': 5, '?': 8}\n"
     ]
    }
   ],
   "source": [
    "print(sf.get_semantic_constraints())"
   ]
  },
  {
   "cell_type": "code",
   "execution_count": 34,
   "id": "c40d0285-d811-4cc2-b234-7a55222bb3ea",
   "metadata": {},
   "outputs": [
    {
     "name": "stdout",
     "output_type": "stream",
     "text": [
      "{'[=Ring2]', '[H]', '[S-1]', '[S]', '[#B-1]', '[C-1]', '[#C]', '[=N]', '[P-1]', '[B+1]', '[=B]', '[=S+1]', '[#S+1]', '[O-1]', '[=S]', '[F]', '[N+1]', '[#N+1]', '[B-1]', '[Branch1]', '[#P-1]', '[=Ring3]', '[I]', '[N]', '[=B-1]', '[=N-1]', '[#B]', '[P+1]', '[=Branch3]', '[Cl]', '[C+1]', '[#P+1]', '[B]', '[=S-1]', '[N-1]', '[Branch3]', '[#Branch3]', '[=O]', '[Br]', '[=N+1]', '[=C-1]', '[#C-1]', '[=O+1]', '[#N]', '[=C]', '[=P+1]', '[O]', '[Ring1]', '[=C+1]', '[#O+1]', '[O+1]', '[=P-1]', '[=Branch1]', '[#Branch1]', '[Ring2]', '[Ring3]', '[=P]', '[#S]', '[S+1]', '[#Branch2]', '[#S-1]', '[=Branch2]', '[=Ring1]', '[=B+1]', '[Branch2]', '[C]', '[#P]', '[P]', '[#C+1]'}\n"
     ]
    }
   ],
   "source": [
    "print(sf.get_semantic_robust_alphabet())"
   ]
  },
  {
   "cell_type": "code",
   "execution_count": 49,
   "id": "85f3b4cc-9b3c-4635-894f-15574bac2afe",
   "metadata": {},
   "outputs": [],
   "source": [
    "def calculate_missing_hydrogens(selfies_string):\n",
    "    \"\"\"\n",
    "    Calculate the number of missing hydrogens for each atom in a SELFIES string.\n",
    "    \n",
    "    Args:\n",
    "        selfies_string (str): A valid SELFIES string\n",
    "        \n",
    "    Returns:\n",
    "        list: List of tuples containing (atom_index, atom_symbol, missing_hydrogens)\n",
    "    \"\"\"\n",
    "    valences = sf.get_semantic_constraints()\n",
    "    \n",
    "    tokens = sf.split_selfies(selfies_string)\n",
    "            \n",
    "    # Process tokens to calculate missing hydrogens\n",
    "    results = []\n",
    "    atom_index = 0\n",
    "    b = 0\n",
    "    bc = 0\n",
    "    \n",
    "    for token in tokens:\n",
    "        if not token.startswith('[') or not token.endswith(']'):\n",
    "            continue\n",
    "            \n",
    "        if b == 3:\n",
    "            \n",
    "        # remove brackets\n",
    "        token = token[1:-1]\n",
    "        \n",
    "        # skip branch tokens\n",
    "        if 'Branch1' in token:\n",
    "            b = 1\n",
    "            continue\n",
    "        elif 'Branch2' in token:\n",
    "            b = 2\n",
    "            continue\n",
    "        elif 'Branch3' in token:\n",
    "            b = 3\n",
    "            continue\n",
    "            \n",
    "        # Parse atom and charge\n",
    "        base_atom = ''\n",
    "        charge = 0\n",
    "        bonds = 0\n",
    "        \n",
    "        # Handle double and triple bonds\n",
    "        if token.startswith('='):\n",
    "            bonds = 2\n",
    "            token = token[1:]\n",
    "        elif token.startswith('#'):\n",
    "            bonds = 3\n",
    "            token = token[1:]\n",
    "            \n",
    "        # Extract charge if present\n",
    "        if '+' in token:\n",
    "            parts = token.split('+')\n",
    "            base_atom = parts[0]\n",
    "            charge = int(parts[1]) if len(parts[1]) > 0 else 1\n",
    "        elif '-' in token:\n",
    "            parts = token.split('-')\n",
    "            base_atom = parts[0]\n",
    "            charge = -int(parts[1]) if len(parts[1]) > 0 else -1\n",
    "        else:\n",
    "            base_atom = token\n",
    "            \n",
    "        # Calculate missing hydrogens if it's a valid atom\n",
    "        if base_atom in valences:\n",
    "            # Adjust valence based on charge\n",
    "            adjusted_valence = valences[base_atom]\n",
    "            if base_atom == 'N' and charge == 1:\n",
    "                adjusted_valence = 4\n",
    "            \n",
    "            # Calculate missing hydrogens\n",
    "            missing_h = adjusted_valence - bonds\n",
    "            \n",
    "            results.append((atom_index, base_atom, missing_h))\n",
    "            atom_index += 1\n",
    "            \n",
    "    return results\n",
    "\n",
    "# Example usage and test\n",
    "def test_calculate_hydrogens():\n",
    "    selfies = \"[O-1][C][=Branch1][C][=O][C][C][Branch1][#Branch2][C][N+1][Branch1][C][C][Branch1][C][C][C][O][C][=Branch1][C][=O][C]\"\n",
    "    results = calculate_missing_hydrogens(selfies)\n",
    "    \n",
    "    print(\"Atom Index | Atom | Missing Hydrogens\")\n",
    "    print(\"-\" * 35)\n",
    "    for idx, atom, hydrogens in results:\n",
    "        print(f\"{idx:^10}|{atom:^6}|{hydrogens:^17}\")\n",
    "        \n",
    "    return results"
   ]
  },
  {
   "cell_type": "code",
   "execution_count": 50,
   "id": "54ce6404-d57b-4c55-bffd-cfe4e40063d0",
   "metadata": {},
   "outputs": [
    {
     "name": "stdout",
     "output_type": "stream",
     "text": [
      "Atom Index | Atom | Missing Hydrogens\n",
      "-----------------------------------\n",
      "    0     |  O   |        2        \n",
      "    1     |  C   |        4        \n",
      "    2     |  C   |        4        \n",
      "    3     |  O   |        0        \n",
      "    4     |  C   |        4        \n",
      "    5     |  C   |        4        \n",
      "    6     |  C   |        4        \n",
      "    7     |  N   |        4        \n",
      "    8     |  C   |        4        \n",
      "    9     |  C   |        4        \n",
      "    10    |  C   |        4        \n",
      "    11    |  C   |        4        \n",
      "    12    |  C   |        4        \n",
      "    13    |  O   |        2        \n",
      "    14    |  C   |        4        \n",
      "    15    |  C   |        4        \n",
      "    16    |  O   |        0        \n",
      "    17    |  C   |        4        \n"
     ]
    },
    {
     "data": {
      "text/plain": [
       "[(0, 'O', 2),\n",
       " (1, 'C', 4),\n",
       " (2, 'C', 4),\n",
       " (3, 'O', 0),\n",
       " (4, 'C', 4),\n",
       " (5, 'C', 4),\n",
       " (6, 'C', 4),\n",
       " (7, 'N', 4),\n",
       " (8, 'C', 4),\n",
       " (9, 'C', 4),\n",
       " (10, 'C', 4),\n",
       " (11, 'C', 4),\n",
       " (12, 'C', 4),\n",
       " (13, 'O', 2),\n",
       " (14, 'C', 4),\n",
       " (15, 'C', 4),\n",
       " (16, 'O', 0),\n",
       " (17, 'C', 4)]"
      ]
     },
     "execution_count": 50,
     "metadata": {},
     "output_type": "execute_result"
    }
   ],
   "source": [
    "test_calculate_hydrogens()"
   ]
  },
  {
   "cell_type": "code",
   "execution_count": 60,
   "id": "78061e57-b4b6-439a-abf5-c38ba3ae0aab",
   "metadata": {},
   "outputs": [
    {
     "name": "stdout",
     "output_type": "stream",
     "text": [
      "SELFIES Encoding: [C][=C][C][=C][C][=C][Ring1][=Branch1]\n",
      "Decoded SELFIES Symbols: <generator object split_selfies at 0x00000151C4D448B0>\n"
     ]
    }
   ],
   "source": [
    "selfies_string = sf.encoder(\"c1ccccc1\")  # Cyclopropane (3-membered ring)\n",
    "print(\"SELFIES Encoding:\", selfies_string)\n",
    "\n",
    "# Decode and inspect the symbols\n",
    "decoded_symbols = sf.split_selfies(selfies_string)\n",
    "print(\"Decoded SELFIES Symbols:\", decoded_symbols)"
   ]
  }
 ],
 "metadata": {
  "kernelspec": {
   "display_name": "Python 3 (ipykernel)",
   "language": "python",
   "name": "python3"
  },
  "language_info": {
   "codemirror_mode": {
    "name": "ipython",
    "version": 3
   },
   "file_extension": ".py",
   "mimetype": "text/x-python",
   "name": "python",
   "nbconvert_exporter": "python",
   "pygments_lexer": "ipython3",
   "version": "3.12.4"
  }
 },
 "nbformat": 4,
 "nbformat_minor": 5
}
