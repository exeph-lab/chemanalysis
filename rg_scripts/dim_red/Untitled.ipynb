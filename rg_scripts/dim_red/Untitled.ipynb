{
 "cells": [
  {
   "cell_type": "code",
   "execution_count": 11,
   "id": "599bd080-ee40-4638-ab25-a0e07ad910c1",
   "metadata": {},
   "outputs": [
    {
     "name": "stdout",
     "output_type": "stream",
     "text": [
      "^C\n"
     ]
    }
   ],
   "source": [
    "!conda install -c conda-forge python-annoy"
   ]
  },
  {
   "cell_type": "code",
   "execution_count": null,
   "id": "19595ca3-c893-4525-9a6a-01642d0182c8",
   "metadata": {},
   "outputs": [],
   "source": [
    "pip install pacmap"
   ]
  },
  {
   "cell_type": "code",
   "execution_count": 5,
   "id": "7c272603-9a38-4b2c-a68c-fbd876fc51b2",
   "metadata": {},
   "outputs": [
    {
     "ename": "ModuleNotFoundError",
     "evalue": "No module named 'pacmap'",
     "output_type": "error",
     "traceback": [
      "\u001b[1;31m---------------------------------------------------------------------------\u001b[0m",
      "\u001b[1;31mModuleNotFoundError\u001b[0m                       Traceback (most recent call last)",
      "Cell \u001b[1;32mIn[5], line 2\u001b[0m\n\u001b[0;32m      1\u001b[0m \u001b[38;5;28;01mimport\u001b[39;00m \u001b[38;5;21;01mpandas\u001b[39;00m \u001b[38;5;28;01mas\u001b[39;00m \u001b[38;5;21;01mpd\u001b[39;00m\n\u001b[1;32m----> 2\u001b[0m \u001b[38;5;28;01mimport\u001b[39;00m \u001b[38;5;21;01mpacmap\u001b[39;00m\n",
      "\u001b[1;31mModuleNotFoundError\u001b[0m: No module named 'pacmap'"
     ]
    }
   ],
   "source": [
    "import pandas as pd\n",
    "import pacmap"
   ]
  },
  {
   "cell_type": "code",
   "execution_count": null,
   "id": "629f31d6-895f-426f-a41d-0f5fcca6dbf3",
   "metadata": {},
   "outputs": [],
   "source": [
    "\n",
    "# Load your data\n",
    "fraud_data = pd.read_csv('path/to/your/data.csv')\n",
    "\n",
    "# Initialize and fit the PaCMAP model\n",
    "embedding = pacmap.PaCMAP(n_dims=2, n_neighbors=None, MN_ratio=0.5, FP_ratio=2.0)\n",
    "X_transformed = embedding.fit_transform(fraud_data.values, init=\"pca\")"
   ]
  }
 ],
 "metadata": {
  "kernelspec": {
   "display_name": "Python 3 (ipykernel)",
   "language": "python",
   "name": "python3"
  },
  "language_info": {
   "codemirror_mode": {
    "name": "ipython",
    "version": 3
   },
   "file_extension": ".py",
   "mimetype": "text/x-python",
   "name": "python",
   "nbconvert_exporter": "python",
   "pygments_lexer": "ipython3",
   "version": "3.12.4"
  }
 },
 "nbformat": 4,
 "nbformat_minor": 5
}
